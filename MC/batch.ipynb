{
 "cells": [
  {
   "cell_type": "code",
   "execution_count": 66,
   "metadata": {
    "collapsed": true
   },
   "outputs": [],
   "source": [
    "import os\n",
    "import numpy as np\n",
    "import matplotlib.pyplot as plt\n",
    "import matplotlib.animation as animation\n",
    "#%matplotlib inline\n",
    "plt.rcParams[\"animation.ffmpeg_path\"] = \"/usr/bin/avconv\""
   ]
  },
  {
   "cell_type": "code",
   "execution_count": 67,
   "metadata": {
    "collapsed": true
   },
   "outputs": [],
   "source": [
    "m = 15\n",
    "n = 20"
   ]
  },
  {
   "cell_type": "code",
   "execution_count": 68,
   "metadata": {
    "collapsed": true
   },
   "outputs": [],
   "source": [
    "# プロジェクト名\n",
    "project = \"synth_05_04\""
   ]
  },
  {
   "cell_type": "code",
   "execution_count": 69,
   "metadata": {
    "collapsed": false
   },
   "outputs": [],
   "source": [
    "# TM, M_N, Mは存在\n",
    "# 行列と真のカテゴリを読み込む\n",
    "TM = np.loadtxt(os.path.join(project, \"TM.mat\"), delimiter=\",\")\n",
    "\n",
    "# カラースケールの設定\n",
    "margin = 1\n",
    "vmin = np.min(TM)-1\n",
    "vmax = np.max(TM)+1\n",
    "\n",
    "plt.imshow(TM, interpolation=\"none\", vmin=vmin, vmax=vmax)\n",
    "plt.tight_layout()\n",
    "plt.savefig(os.path.join(project, \"TM.png\"))\n",
    "plt.show()\n",
    "\n",
    "M_N = np.loadtxt(os.path.join(project, \"M_N.mat\"), delimiter=\",\")\n",
    "plt.imshow(M_N, interpolation=\"none\", vmin=vmin, vmax=vmax)\n",
    "plt.tight_layout()\n",
    "plt.savefig(os.path.join(project, \"M_N.png\"))\n",
    "plt.show()\n",
    "\n",
    "M = np.loadtxt(os.path.join(project, \"Mnp.mat\"), delimiter=\",\")\n",
    "plt.imshow(M, interpolation=\"none\", vmin=vmin, vmax=vmax)\n",
    "plt.tight_layout()\n",
    "plt.savefig(os.path.join(project, \"M.png\"))\n",
    "plt.show()\n",
    "\n",
    "row_cat = []\n",
    "with open(os.path.join(project, \"row_cat\"), \"r\") as fin:\n",
    "    for line in fin:\n",
    "        row_cat.append(int(line.rstrip()))\n",
    "\n",
    "col_cat = []\n",
    "with open(os.path.join(project, \"col_cat\"), \"r\") as fin:\n",
    "    for line in fin:\n",
    "        col_cat.append(int(line.rstrip()))"
   ]
  },
  {
   "cell_type": "code",
   "execution_count": 70,
   "metadata": {
    "collapsed": true
   },
   "outputs": [],
   "source": [
    "# Mの平均\n",
    "M_mean = np.nanmean(M)"
   ]
  },
  {
   "cell_type": "code",
   "execution_count": 91,
   "metadata": {
    "collapsed": true
   },
   "outputs": [],
   "source": [
    "# パラメータリスト\n",
    "# グラフなし\n",
    "#gammas = [[0.001, 0, 0], [0.01, 0, 0], [0.1, 0, 0], [1, 0, 0]]\n",
    "# グラフあり\n",
    "#gammas = [[0.1, 0.001, 0.001], [0.1, 0.01, 0.01], [0.1, 0.1, 0.1], [0.1, 1, 1]]\n",
    "gammas = [[1, 0, 0]]\n",
    "rho = 0.15"
   ]
  },
  {
   "cell_type": "code",
   "execution_count": 49,
   "metadata": {
    "collapsed": false
   },
   "outputs": [
    {
     "name": "stdout",
     "output_type": "stream",
     "text": [
      "b'$i: 0\\n$i: 1\\n$i: 2\\n$i: 3\\n$i: 4\\n$i: 5\\n$i: 6\\n$i: 7\\n$i: 8\\n$i: 9\\n$i: 10\\n$i: 11\\n$i: 12\\n$i: 13\\n$i: 14\\n$i: 15\\n$i: 16\\n$i: 17\\n$i: 18\\n$i: 19\\n$i: 20\\n$i: 21\\n$i: 22\\n$i: 23\\n$i: 24\\n$i: 25\\n$i: 26\\n$i: 27\\n$i: 28\\n$i: 29\\n$i: 30\\n$i: 31\\n$i: 32\\n$i: 33\\n$i: 34\\n$i: 35\\n$i: 36\\n$i: 37\\n$i: 38\\n$i: 39\\n$i: 40\\n$i: 41\\n$i: 42\\n$i: 43\\n$i: 44\\n$i: 45\\n$i: 46\\n$i: 47\\n$i: 48\\n$i: 49\\n$i: 50\\n$i: 51\\n$i: 52\\n$i: 53\\n$i: 54\\n$i: 55\\n$i: 56\\n$i: 57\\n$i: 58\\n$i: 59\\n$i: 60\\n$i: 61\\n$i: 62\\n$i: 63\\n$i: 64\\n$i: 65\\n$i: 66\\n$i: 67\\n$i: 68\\n$i: 69\\n$i: 70\\n$i: 71\\n$i: 72\\n$i: 73\\n$i: 74\\n'\n",
      "b'$i: 0\\n$i: 1\\n$i: 2\\n$i: 3\\n$i: 4\\n$i: 5\\n$i: 6\\n$i: 7\\n$i: 8\\n$i: 9\\n$i: 10\\n$i: 11\\n$i: 12\\n$i: 13\\n$i: 14\\n$i: 15\\n$i: 16\\n$i: 17\\n$i: 18\\n$i: 19\\n$i: 20\\n$i: 21\\n$i: 22\\n$i: 23\\n$i: 24\\n$i: 25\\n$i: 26\\n$i: 27\\n$i: 28\\n$i: 29\\n$i: 30\\n'\n",
      "b'$i: 0\\n$i: 1\\n$i: 2\\n$i: 3\\n$i: 4\\n$i: 5\\n$i: 6\\n$i: 7\\n$i: 8\\n$i: 9\\n$i: 10\\n$i: 11\\n$i: 12\\n$i: 13\\n$i: 14\\n$i: 15\\n$i: 16\\n$i: 17\\n$i: 18\\n$i: 19\\n$i: 20\\n$i: 21\\n'\n",
      "b'$i: 0\\n$i: 1\\n$i: 2\\n$i: 3\\n$i: 4\\n$i: 5\\n$i: 6\\n$i: 7\\n$i: 8\\n$i: 9\\n$i: 10\\n$i: 11\\n$i: 12\\n$i: 13\\n$i: 14\\n$i: 15\\n$i: 16\\n$i: 17\\n$i: 18\\n$i: 19\\n$i: 20\\n$i: 21\\n$i: 22\\n'\n"
     ]
    }
   ],
   "source": [
    "# パラメータごとにC++で実行\n",
    "import subprocess\n",
    "import sys\n",
    "for gamma in gammas:\n",
    "    params = gamma + [rho]\n",
    "    params_str = \"_\".join([str(param) for param in params])\n",
    "    with open(\"prob_param\", \"w\") as fout:\n",
    "        print(\"\\n\".join([str(param) for param in params]), file=fout)\n",
    "    res = subprocess.run([\"mkdir\", os.path.join(project, params_str)], stderr=subprocess.PIPE)\n",
    "    res = subprocess.run([\"./a.out\", str(m), str(n), project, params_str], stderr=subprocess.PIPE)\n",
    "    print(res.stderr)"
   ]
  },
  {
   "cell_type": "code",
   "execution_count": 93,
   "metadata": {
    "collapsed": false
   },
   "outputs": [
    {
     "name": "stderr",
     "output_type": "stream",
     "text": [
      "/home/mistpc/.pyenv/versions/anaconda3-4.0.0/lib/python3.5/site-packages/matplotlib/animation.py:782: UserWarning: MovieWriter ffmpeg unavailable\n",
      "  warnings.warn(\"MovieWriter %s unavailable\" % writer)\n"
     ]
    }
   ],
   "source": [
    "# パラメータごとにログを解析する\n",
    "for gamma in gammas:\n",
    "    params = gamma + [rho]\n",
    "    params_str = \"_\".join([str(param) for param in params])\n",
    "    it = 0\n",
    "    logdir_path = os.path.join(project, params_str)\n",
    "    \n",
    "    fig = plt.figure()\n",
    "    im_list = []\n",
    "    X = np.zeros((m, n), dtype=float)\n",
    "    while True:\n",
    "        file_path = os.path.join(logdir_path, \"X\"+str(it))\n",
    "\n",
    "        if subprocess.run([\"find\", file_path]).returncode != 0:\n",
    "            #plt.imshow(X, interpolation=\"none\", vmin=vmin, vmax=vmax)\n",
    "            #plt.tight_layout()\n",
    "            #plt.savefig(os.path.join(logdir_path, \"X.png\"))\n",
    "            #plt.show()\n",
    "            # すべて閉じる\n",
    "            #plt.cla()\n",
    "            #plt.clf()\n",
    "            #plt.close(\"all\")\n",
    "            break\n",
    "\n",
    "        meaned_X = np.loadtxt(file_path, delimiter=\",\")\n",
    "        X = meaned_X + M_mean\n",
    "        im = plt.imshow(X, interpolation=\"none\", vmin=vmin, vmax=vmax)\n",
    "        plt.tight_layout()\n",
    "        im_list.append([im])\n",
    "        it += 1\n",
    "    ani = animation.ArtistAnimation(fig, im_list, interval=500, repeat=False)\n",
    "    ani.save(os.path.join(logdir_path, \"X.gif\"))\n",
    "    plt.show()\n",
    "    # すべて閉じる\n",
    "    #plt.cla()\n",
    "    #plt.clf()\n",
    "    #plt.close(\"all\")"
   ]
  },
  {
   "cell_type": "code",
   "execution_count": 92,
   "metadata": {
    "collapsed": true
   },
   "outputs": [],
   "source": [
    "# すべて閉じる\n",
    "plt.cla()\n",
    "plt.clf()\n",
    "plt.close(\"all\")"
   ]
  },
  {
   "cell_type": "code",
   "execution_count": null,
   "metadata": {
    "collapsed": true
   },
   "outputs": [],
   "source": []
  }
 ],
 "metadata": {
  "kernelspec": {
   "display_name": "Python 3",
   "language": "python",
   "name": "python3"
  },
  "language_info": {
   "codemirror_mode": {
    "name": "ipython",
    "version": 3
   },
   "file_extension": ".py",
   "mimetype": "text/x-python",
   "name": "python",
   "nbconvert_exporter": "python",
   "pygments_lexer": "ipython3",
   "version": "3.5.1"
  }
 },
 "nbformat": 4,
 "nbformat_minor": 0
}
