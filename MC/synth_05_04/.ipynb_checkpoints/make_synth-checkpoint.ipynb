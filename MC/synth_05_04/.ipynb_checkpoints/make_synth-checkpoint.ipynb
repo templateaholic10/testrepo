{
 "cells": [
  {
   "cell_type": "code",
   "execution_count": 1,
   "metadata": {
    "collapsed": false
   },
   "outputs": [],
   "source": [
    "import random\n",
    "import numpy as np\n",
    "import matplotlib.pyplot as pyplot\n",
    "import copy\n",
    "%matplotlib inline"
   ]
  },
  {
   "cell_type": "code",
   "execution_count": 2,
   "metadata": {
    "collapsed": true
   },
   "outputs": [],
   "source": [
    "# パラメータ設定\n",
    "m = 15\n",
    "n = 20\n",
    "rR = 5\n",
    "cR = 7\n",
    "k = 5"
   ]
  },
  {
   "cell_type": "code",
   "execution_count": 3,
   "metadata": {
    "collapsed": true
   },
   "outputs": [],
   "source": [
    "# カラーバー設定\n",
    "vmin = 0\n",
    "vmax = 5"
   ]
  },
  {
   "cell_type": "code",
   "execution_count": 4,
   "metadata": {
    "collapsed": true
   },
   "outputs": [],
   "source": [
    "def deal(n, k):\n",
    "    \"\"\"\n",
    "    0, ..., n-1をk個のビンに振り分ける関数．\n",
    "    それぞれの属するビンを返す\n",
    "    \"\"\"\n",
    "    return [random.choice(range(k)) for i in range(n)]"
   ]
  },
  {
   "cell_type": "code",
   "execution_count": 5,
   "metadata": {
    "collapsed": false
   },
   "outputs": [],
   "source": [
    "def make_true(m, n, rR, cR, vals):\n",
    "    \"\"\"\n",
    "    行ランクrR，列ランクcRのk-値m*n行列を作る関数\n",
    "    \"\"\"\n",
    "    table = [[random.choice(vals) for j in range(n)] for i in range(m)]\n",
    "    row_cat = deal(m, rR)\n",
    "    col_cat = deal(n, cR)\n",
    "\n",
    "    return (np.array([[table[row_cat[i]][col_cat[j]] for j in range(n)] for i in range(m)], dtype=float), row_cat, col_cat)"
   ]
  },
  {
   "cell_type": "code",
   "execution_count": 6,
   "metadata": {
    "collapsed": true
   },
   "outputs": [],
   "source": [
    "# 真の行列と真のカテゴリをsynth_001_09から読み込む\n",
    "TM = np.loadtxt(\"../synth_001_09/TM.mat\", delimiter=\",\")\n",
    "\n",
    "row_cat = []\n",
    "with open(\"../synth_001_09/row_cat\", \"r\") as fin:\n",
    "    for line in fin:\n",
    "        row_cat.append(int(line.rstrip()))\n",
    "\n",
    "col_cat = []\n",
    "with open(\"../synth_001_09/col_cat\", \"r\") as fin:\n",
    "    for line in fin:\n",
    "        col_cat.append(int(line.rstrip()))"
   ]
  },
  {
   "cell_type": "code",
   "execution_count": 7,
   "metadata": {
    "collapsed": false
   },
   "outputs": [
    {
     "data": {
      "text/plain": [
       "<matplotlib.image.AxesImage at 0x7f181edd9fd0>"
      ]
     },
     "execution_count": 7,
     "metadata": {},
     "output_type": "execute_result"
    },
    {
     "data": {
      "image/png": "[encoded data removed]",
      "text/plain": [
       "<matplotlib.figure.Figure at 0x7f18212415f8>"
      ]
     },
     "metadata": {},
     "output_type": "display_data"
    }
   ],
   "source": [
    "# 真の行列作成\n",
    "# TM, row_cat, col_cat = make_true(m, n, rR, cR, range(1, k+1))\n",
    "\n",
    "# 真のカテゴリの保存\n",
    "with open(\"row_cat\", \"w\") as fout:\n",
    "    print(\"\\n\".join([str(it) for it in row_cat]), file=fout)\n",
    "with open(\"col_cat\", \"w\") as fout:\n",
    "    print(\"\\n\".join([str(it) for it in col_cat]), file=fout)\n",
    "\n",
    "# TMの保存\n",
    "np.savetxt(\"TM.mat\", TM, fmt=\"%i\", delimiter=\",\")\n",
    "\n",
    "# TMの表示\n",
    "pyplot.imshow(TM, interpolation=\"none\", vmin=vmin, vmax=vmax)"
   ]
  },
  {
   "cell_type": "code",
   "execution_count": 12,
   "metadata": {
    "collapsed": false
   },
   "outputs": [
    {
     "data": {
      "text/plain": [
       "<matplotlib.image.AxesImage at 0x7f181e991da0>"
      ]
     },
     "execution_count": 12,
     "metadata": {},
     "output_type": "execute_result"
    },
    {
     "data": {
      "image/png": "[encoded data removed]",
      "text/plain": [
       "<matplotlib.figure.Figure at 0x7f181e9cab70>"
      ]
     },
     "metadata": {},
     "output_type": "display_data"
    }
   ],
   "source": [
    "# ノイズを加える\n",
    "mean = 0\n",
    "sigma = 0.5\n",
    "M_N = TM + np.random.normal(mean, sigma, (m, n))\n",
    "\n",
    "# M_Nの保存\n",
    "np.savetxt(\"M_N.mat\", M_N, delimiter=\",\")\n",
    "\n",
    "# M_Nの表示\n",
    "pyplot.imshow(M_N, interpolation=\"none\", vmin=vmin, vmax=vmax)"
   ]
  },
  {
   "cell_type": "code",
   "execution_count": 13,
   "metadata": {
    "collapsed": true
   },
   "outputs": [],
   "source": [
    "# マスク行列を作成する関数．確率pで観測\n",
    "def make_mask(m, n, p):\n",
    "    retval = np.full((m, n), False, dtype=bool)\n",
    "    for i in range(m):\n",
    "        for j in range(n):\n",
    "            if np.random.binomial(1, p) == 1:\n",
    "                retval[i, j] = True\n",
    "    return retval\n",
    "\n",
    "# マスク関数\n",
    "def mask(M, A):\n",
    "    retval = copy.deepcopy(M)\n",
    "    retval[A == False] = None\n",
    "    return retval"
   ]
  },
  {
   "cell_type": "code",
   "execution_count": 14,
   "metadata": {
    "collapsed": false
   },
   "outputs": [],
   "source": [
    "# マスク行列の作成\n",
    "p = 0.4\n",
    "A = make_mask(m, n, p)"
   ]
  },
  {
   "cell_type": "code",
   "execution_count": 15,
   "metadata": {
    "collapsed": false
   },
   "outputs": [
    {
     "data": {
      "text/plain": [
       "<matplotlib.image.AxesImage at 0x7f181e8fb978>"
      ]
     },
     "execution_count": 15,
     "metadata": {},
     "output_type": "execute_result"
    },
    {
     "data": {
      "image/png": "[encoded data removed]",
      "text/plain": [
       "<matplotlib.figure.Figure at 0x7f181eb470b8>"
      ]
     },
     "metadata": {},
     "output_type": "display_data"
    }
   ],
   "source": [
    "# Mの作成\n",
    "M = mask(M_N, A)\n",
    "\n",
    "# Mの保存\n",
    "np.savetxt(\"Mnp.mat\", M, delimiter=\",\")\n",
    "\n",
    "# Mの表示\n",
    "pyplot.imshow(M, interpolation=\"none\", vmin=vmin, vmax=vmax)"
   ]
  },
  {
   "cell_type": "code",
   "execution_count": 16,
   "metadata": {
    "collapsed": false
   },
   "outputs": [],
   "source": [
    "# COO保存関数\n",
    "def saveCOO(M, fout):\n",
    "    m, n = M.shape\n",
    "    for i in range(m):\n",
    "        for j in range(n):\n",
    "            if not np.isnan(M[i, j]):\n",
    "                print(\",\".join([str(i), str(j), str(M[i, j])]), file=fout)"
   ]
  },
  {
   "cell_type": "code",
   "execution_count": 17,
   "metadata": {
    "collapsed": true
   },
   "outputs": [],
   "source": [
    "# Mの平均化\n",
    "M_mean = np.nanmean(M)\n",
    "meanedM = M - M_mean"
   ]
  },
  {
   "cell_type": "code",
   "execution_count": 18,
   "metadata": {
    "collapsed": true
   },
   "outputs": [],
   "source": [
    "# meanedMのCOO保存\n",
    "with open(\"M.mat\", \"w\") as fout:\n",
    "    saveCOO(meanedM, fout)"
   ]
  },
  {
   "cell_type": "code",
   "execution_count": 19,
   "metadata": {
    "collapsed": false
   },
   "outputs": [],
   "source": [
    "# カテゴリ辞書の作成\n",
    "cat_to_row = {}\n",
    "for row in range(m):\n",
    "    cat = row_cat[row]\n",
    "    if cat not in cat_to_row:\n",
    "        cat_to_row[cat] = set()\n",
    "    cat_to_row[cat].add(row)\n",
    "\n",
    "cat_to_col = {}\n",
    "for col in range(n):\n",
    "    cat = col_cat[col]\n",
    "    if cat not in cat_to_col:\n",
    "        cat_to_col[cat] = set()\n",
    "    cat_to_col[cat].add(col)"
   ]
  },
  {
   "cell_type": "code",
   "execution_count": 20,
   "metadata": {
    "collapsed": false
   },
   "outputs": [],
   "source": [
    "# グラフラプラシアンの作成\n",
    "Lr = np.full((m, m), None, dtype=float)\n",
    "# カテゴリごと\n",
    "for cat, row_set in cat_to_row.items():\n",
    "    for row1 in row_set:\n",
    "        for row2 in row_set:\n",
    "            if row1 == row2:\n",
    "                # 対角成分\n",
    "                Lr[row1, row2] = len(row_set)-1\n",
    "            else:\n",
    "                # 非対角成分\n",
    "                Lr[row1, row2] = -1\n",
    "\n",
    "Lc = np.full((n, n), None, dtype=float)\n",
    "# カテゴリごと\n",
    "for cat, col_set in cat_to_col.items():\n",
    "    for col1 in col_set:\n",
    "        for col2 in col_set:\n",
    "            if col1 == col2:\n",
    "                # 対角成分\n",
    "                Lc[col1, col2] = len(col_set)-1\n",
    "            else:\n",
    "                # 非対角成分\n",
    "                Lc[col1, col2] = -1\n",
    "\n",
    "# グラフラプラシアンの保存\n",
    "with open(\"Lr.mat\", \"w\") as fout:\n",
    "    saveCOO(Lr, fout)\n",
    "with open(\"Lc.mat\", \"w\") as fout:\n",
    "    saveCOO(Lc, fout)"
   ]
  },
  {
   "cell_type": "code",
   "execution_count": 37,
   "metadata": {
    "collapsed": false
   },
   "outputs": [],
   "source": [
    "# C++で実行\n",
    "# import subprocess\n",
    "# subprocess.run([\"../a.out\", str(m), str(n), \"synth_demo\"])"
   ]
  },
  {
   "cell_type": "code",
   "execution_count": 38,
   "metadata": {
    "collapsed": false
   },
   "outputs": [
    {
     "data": {
      "text/plain": [
       "<matplotlib.image.AxesImage at 0x7f181dec2c18>"
      ]
     },
     "execution_count": 38,
     "metadata": {},
     "output_type": "execute_result"
    },
    {
     "data": {
      "image/png": "[encoded data removed]",
      "text/plain": [
       "<matplotlib.figure.Figure at 0x7f181e077e80>"
      ]
     },
     "metadata": {},
     "output_type": "display_data"
    }
   ],
   "source": [
    "# Xの読込\n",
    "meaned_X = np.loadtxt(\"X.mat\", delimiter=\",\")\n",
    "X = meaned_X + M_mean\n",
    "\n",
    "# Xの表示\n",
    "pyplot.imshow(X, interpolation=\"none\", vmin=vmin, vmax=vmax)"
   ]
  },
  {
   "cell_type": "code",
   "execution_count": 39,
   "metadata": {
    "collapsed": true
   },
   "outputs": [],
   "source": [
    "# カラースケール\n",
    "vmin = min((np.min(TM), np.min(X)))\n",
    "vmax = max((np.max(TM), np.max(X)))"
   ]
  },
  {
   "cell_type": "code",
   "execution_count": 40,
   "metadata": {
    "collapsed": false
   },
   "outputs": [
    {
     "data": {
      "text/plain": [
       "<matplotlib.colorbar.Colorbar at 0x7f181dd921d0>"
      ]
     },
     "execution_count": 40,
     "metadata": {},
     "output_type": "execute_result"
    },
    {
     "data": {
      "image/png": "[encoded data removed]",
      "text/plain": [
       "<matplotlib.figure.Figure at 0x7f181df1f198>"
      ]
     },
     "metadata": {},
     "output_type": "display_data"
    }
   ],
   "source": [
    "# TMとXの比較\n",
    "pyplot.subplot(121)\n",
    "pyplot.imshow(TM, interpolation=\"none\", vmin=vmin, vmax=vmax)\n",
    "pyplot.colorbar()\n",
    "pyplot.subplot(122)\n",
    "pyplot.imshow(X, interpolation=\"none\", vmin=vmin, vmax=vmax)\n",
    "pyplot.colorbar()"
   ]
  },
  {
   "cell_type": "code",
   "execution_count": 41,
   "metadata": {
    "collapsed": false
   },
   "outputs": [
    {
     "data": {
      "text/plain": [
       "<matplotlib.colorbar.Colorbar at 0x7f181dc015c0>"
      ]
     },
     "execution_count": 41,
     "metadata": {},
     "output_type": "execute_result"
    },
    {
     "data": {
      "image/png": "[encoded data removed]",
      "text/plain": [
       "<matplotlib.figure.Figure at 0x7f181dda21d0>"
      ]
     },
     "metadata": {},
     "output_type": "display_data"
    }
   ],
   "source": [
    "# マスクしたTMとXの比較\n",
    "pyplot.subplot(121)\n",
    "pyplot.imshow(mask(TM, A), interpolation=\"none\", vmin=vmin, vmax=vmax)\n",
    "pyplot.colorbar()\n",
    "pyplot.subplot(122)\n",
    "pyplot.imshow(mask(X, A), interpolation=\"none\", vmin=vmin, vmax=vmax)\n",
    "pyplot.colorbar()"
   ]
  },
  {
   "cell_type": "code",
   "execution_count": null,
   "metadata": {
    "collapsed": true
   },
   "outputs": [],
   "source": []
  }
 ],
 "metadata": {
  "kernelspec": {
   "display_name": "Python 3",
   "language": "python",
   "name": "python3"
  },
  "language_info": {
   "codemirror_mode": {
    "name": "ipython",
    "version": 3
   },
   "file_extension": ".py",
   "mimetype": "text/x-python",
   "name": "python",
   "nbconvert_exporter": "python",
   "pygments_lexer": "ipython3",
   "version": "3.5.1"
  }
 },
 "nbformat": 4,
 "nbformat_minor": 0
}
