{
 "metadata": {
  "name": ""
 },
 "nbformat": 3,
 "nbformat_minor": 0,
 "worksheets": [
  {
   "cells": [
    {
     "cell_type": "code",
     "collapsed": false,
     "input": [
      "import pandas\n",
      "import numpy as np"
     ],
     "language": "python",
     "metadata": {},
     "outputs": [],
     "prompt_number": 3
    },
    {
     "cell_type": "code",
     "collapsed": false,
     "input": [
      "numbering = '01'"
     ],
     "language": "python",
     "metadata": {},
     "outputs": [],
     "prompt_number": 4
    },
    {
     "cell_type": "code",
     "collapsed": false,
     "input": [
      "df = pandas.read_csv(\"square_initialtest\" + numbering + \".csv\")\n",
      "df['KL_01'] = 0\n",
      "df['KL_02'] = 0\n",
      "df['KL_03'] = 0\n",
      "df['KL_12'] = 0\n",
      "df['KL_13'] = 0\n",
      "df['KL_23'] = 0"
     ],
     "language": "python",
     "metadata": {},
     "outputs": [],
     "prompt_number": 5
    },
    {
     "cell_type": "code",
     "collapsed": false,
     "input": [
      "# Jensen Shannon Divegence\u306e\u8a08\u7b97\n",
      "for i in df.index:\n",
      "    mu1 = np.matrix([[df.loc[i,'mu^0_0']],[df.loc[i,'mu^0_1']]])\n",
      "    mu2 = np.matrix([[df.loc[i,'mu^1_0']],[df.loc[i,'mu^1_1']]])\n",
      "    sigma1 = np.matrix([[df.loc[i,'sigma^0_00'],df.loc[i,'sigma^0_01']],[df.loc[i,'sigma^0_10'],df.loc[i,'sigma^0_11']]])\n",
      "    sigma2 = np.matrix([[df.loc[i,'sigma^1_00'],df.loc[i,'sigma^1_01']],[df.loc[i,'sigma^1_10'],df.loc[i,'sigma^1_11']]])\n",
      "    df.loc[i,'KL_01'] = ((sigma2.I * sigma1).trace() + (sigma1.I * sigma2).trace() + (mu1 - mu2).T * (sigma1.I + sigma2.I) * (mu1 - mu2))/4 - 1\n",
      "for i in df.index:\n",
      "    mu1 = np.matrix([[df.loc[i,'mu^0_0']],[df.loc[i,'mu^0_1']]])\n",
      "    mu2 = np.matrix([[df.loc[i,'mu^2_0']],[df.loc[i,'mu^2_1']]])\n",
      "    sigma1 = np.matrix([[df.loc[i,'sigma^0_00'],df.loc[i,'sigma^0_01']],[df.loc[i,'sigma^0_10'],df.loc[i,'sigma^0_11']]])\n",
      "    sigma2 = np.matrix([[df.loc[i,'sigma^2_00'],df.loc[i,'sigma^2_01']],[df.loc[i,'sigma^2_10'],df.loc[i,'sigma^2_11']]])\n",
      "    df.loc[i,'KL_02'] = ((sigma2.I * sigma1).trace() + (sigma1.I * sigma2).trace() + (mu1 - mu2).T * (sigma1.I + sigma2.I) * (mu1 - mu2))/4 - 1\n",
      "for i in df.index:\n",
      "    mu1 = np.matrix([[df.loc[i,'mu^0_0']],[df.loc[i,'mu^0_1']]])\n",
      "    mu2 = np.matrix([[df.loc[i,'mu^3_0']],[df.loc[i,'mu^3_1']]])\n",
      "    sigma1 = np.matrix([[df.loc[i,'sigma^0_00'],df.loc[i,'sigma^0_01']],[df.loc[i,'sigma^0_10'],df.loc[i,'sigma^0_11']]])\n",
      "    sigma2 = np.matrix([[df.loc[i,'sigma^3_00'],df.loc[i,'sigma^3_01']],[df.loc[i,'sigma^3_10'],df.loc[i,'sigma^3_11']]])\n",
      "    df.loc[i,'KL_03'] = ((sigma2.I * sigma1).trace() + (sigma1.I * sigma2).trace() + (mu1 - mu2).T * (sigma1.I + sigma2.I) * (mu1 - mu2))/4 - 1\n",
      "for i in df.index:\n",
      "    mu1 = np.matrix([[df.loc[i,'mu^1_0']],[df.loc[i,'mu^1_1']]])\n",
      "    mu2 = np.matrix([[df.loc[i,'mu^2_0']],[df.loc[i,'mu^2_1']]])\n",
      "    sigma1 = np.matrix([[df.loc[i,'sigma^1_00'],df.loc[i,'sigma^1_01']],[df.loc[i,'sigma^1_10'],df.loc[i,'sigma^1_11']]])\n",
      "    sigma2 = np.matrix([[df.loc[i,'sigma^2_00'],df.loc[i,'sigma^2_01']],[df.loc[i,'sigma^2_10'],df.loc[i,'sigma^2_11']]])\n",
      "    df.loc[i,'KL_12'] = ((sigma2.I * sigma1).trace() + (sigma1.I * sigma2).trace() + (mu1 - mu2).T * (sigma1.I + sigma2.I) * (mu1 - mu2))/4 - 1\n",
      "for i in df.index:\n",
      "    mu1 = np.matrix([[df.loc[i,'mu^1_0']],[df.loc[i,'mu^1_1']]])\n",
      "    mu2 = np.matrix([[df.loc[i,'mu^3_0']],[df.loc[i,'mu^3_1']]])\n",
      "    sigma1 = np.matrix([[df.loc[i,'sigma^1_00'],df.loc[i,'sigma^1_01']],[df.loc[i,'sigma^1_10'],df.loc[i,'sigma^1_11']]])\n",
      "    sigma2 = np.matrix([[df.loc[i,'sigma^3_00'],df.loc[i,'sigma^3_01']],[df.loc[i,'sigma^3_10'],df.loc[i,'sigma^3_11']]])\n",
      "    df.loc[i,'KL_13'] = ((sigma2.I * sigma1).trace() + (sigma1.I * sigma2).trace() + (mu1 - mu2).T * (sigma1.I + sigma2.I) * (mu1 - mu2))/4 - 1\n",
      "for i in df.index:\n",
      "    mu1 = np.matrix([[df.loc[i,'mu^2_0']],[df.loc[i,'mu^2_1']]])\n",
      "    mu2 = np.matrix([[df.loc[i,'mu^3_0']],[df.loc[i,'mu^3_1']]])\n",
      "    sigma1 = np.matrix([[df.loc[i,'sigma^2_00'],df.loc[i,'sigma^2_01']],[df.loc[i,'sigma^2_10'],df.loc[i,'sigma^2_11']]])\n",
      "    sigma2 = np.matrix([[df.loc[i,'sigma^3_00'],df.loc[i,'sigma^3_01']],[df.loc[i,'sigma^3_10'],df.loc[i,'sigma^3_11']]])\n",
      "    df.loc[i,'KL_23'] = ((sigma2.I * sigma1).trace() + (sigma1.I * sigma2).trace() + (mu1 - mu2).T * (sigma1.I + sigma2.I) * (mu1 - mu2))/4 - 1"
     ],
     "language": "python",
     "metadata": {},
     "outputs": [],
     "prompt_number": 6
    },
    {
     "cell_type": "code",
     "collapsed": false,
     "input": [
      "# JSd\u306e\u5e73\u5747\u3068\u6700\u5927\u5024\u306e\u8a08\u7b97\n",
      "df['KLmean'] = (df.iloc[:,59] + df.iloc[:,60] + df.iloc[:,61] + df.iloc[:,62] + df.iloc[:,63] + df.iloc[:,64]) / 6\n",
      "for i in df.index:\n",
      "    df.loc[i,'KLmax'] = max(df.iloc[i,59],df.iloc[i,60],df.iloc[i,61],df.iloc[i,62],df.iloc[i,63],df.iloc[i,64])"
     ],
     "language": "python",
     "metadata": {},
     "outputs": [],
     "prompt_number": 7
    },
    {
     "cell_type": "code",
     "collapsed": false,
     "input": [
      "# \u771f\u5024\n",
      "true_pi = [0.1,0.2,0.3,0.4]\n",
      "true_mus = [np.matrix([[-2.],[-2.]]),np.matrix([[-2.],[2.]]),np.matrix([[2.],[-2.]]),np.matrix([[2.],[2.]])]\n",
      "true_sigmas = [np.matrix([[1.,0.],[0.,1.]]),np.matrix([[1.,0.],[0.,1.]]),np.matrix([[1.,0.],[0.,1.]]),np.matrix([[1.,0.],[0.,1.]])]"
     ],
     "language": "python",
     "metadata": {},
     "outputs": [],
     "prompt_number": 8
    },
    {
     "cell_type": "code",
     "collapsed": false,
     "input": [
      "# \u307e\u3068\u3081\u308b\n",
      "subdf = df.iloc[:,[59,60,61,62,63,64,65,66,28,57,58]]"
     ],
     "language": "python",
     "metadata": {},
     "outputs": [],
     "prompt_number": 9
    },
    {
     "cell_type": "code",
     "collapsed": false,
     "input": [
      "subdf.to_csv('for_linear' + numbering + '.csv', index=False)"
     ],
     "language": "python",
     "metadata": {},
     "outputs": [],
     "prompt_number": 10
    },
    {
     "cell_type": "code",
     "collapsed": false,
     "input": [],
     "language": "python",
     "metadata": {},
     "outputs": []
    }
   ],
   "metadata": {}
  }
 ]
}